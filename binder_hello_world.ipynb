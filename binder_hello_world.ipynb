{
 "cells": [
  {
   "cell_type": "markdown",
   "metadata": {},
   "source": [
    "# Demo of binder environment\n",
    "\n",
    "+ This is a [github respository](https://github.com/britishtar/binder_hello_world) with a single jupyter notebook on **github.com**\n",
    "+ [Binder](https://mybinder.org) provides cloud resources to provision a docker image with [JupyterHub](jupyterhub.readthedocs.io/en/latest)\n"
   ]
  },
  {
   "cell_type": "code",
   "execution_count": 3,
   "metadata": {},
   "outputs": [
    {
     "name": "stdout",
     "output_type": "stream",
     "text": [
      "Hello, Bruce!  Let's find someone who can implement something like this for us at NIWC!\n"
     ]
    }
   ],
   "source": [
    "print(\"Hello, Bruce!  Let's find someone who can implement something like this for us at NIWC!\")"
   ]
  }
 ],
 "metadata": {
  "kernelspec": {
   "display_name": "Python 3",
   "language": "python",
   "name": "python3"
  },
  "language_info": {
   "codemirror_mode": {
    "name": "ipython",
    "version": 3
   },
   "file_extension": ".py",
   "mimetype": "text/x-python",
   "name": "python",
   "nbconvert_exporter": "python",
   "pygments_lexer": "ipython3",
   "version": "3.6.9"
  }
 },
 "nbformat": 4,
 "nbformat_minor": 4
}
